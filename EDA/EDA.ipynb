{
 "cells": [
  {
   "cell_type": "markdown",
   "metadata": {},
   "source": [
    "# Exploratory Data Analysis (EDA)\n",
    "This notebook contains the code for visualizing the data and gaining insights from it."
   ]
  },
  {
   "cell_type": "code",
   "execution_count": null,
   "metadata": {},
   "outputs": [],
   "source": [
    "# Requiered imports\n",
    "import pandas as pd\n",
    "import matplotlib.pyplot as plt\n",
    "import seaborn as sns\n",
    "from wordcloud import WordCloud\n",
    "import geopandas as gpd\n",
    "import json\n",
    "from matplotlib.lines import Line2D\n",
    "from tqdm import tqdm\n",
    "from shapely.geometry import Point\n",
    "import warnings\n",
    "warnings.filterwarnings(\"ignore\")"
   ]
  },
  {
   "cell_type": "code",
   "execution_count": null,
   "metadata": {},
   "outputs": [],
   "source": [
    "# Read and visualize data\n",
    "df = pd.read_csv(\"../Data/Cluster_data.csv\")\n",
    "df"
   ]
  },
  {
   "cell_type": "code",
   "execution_count": null,
   "metadata": {},
   "outputs": [],
   "source": [
    "# Check null values\n",
    "df.isnull().sum()"
   ]
  },
  {
   "cell_type": "markdown",
   "metadata": {},
   "source": [
    "The NaN values in geoip.continent_code and hostGeoip.continent_code corresponds actually to the North America(NA) continent. This is easily observed by examining the countries with NaN values, they are all from NA. Let us correct the values"
   ]
  },
  {
   "cell_type": "code",
   "execution_count": null,
   "metadata": {},
   "outputs": [],
   "source": [
    "df['_source.geoip.continent_code'] = df['_source.geoip.continent_code'].fillna('NA')\n",
    "df['_source.hostGeoip.continent_code'] = df['_source.hostGeoip.continent_code'].fillna('NA')"
   ]
  },
  {
   "cell_type": "markdown",
   "metadata": {},
   "source": [
    "## General EDA"
   ]
  },
  {
   "cell_type": "markdown",
   "metadata": {},
   "source": [
    "### Attacks by Continent/Country of Origin"
   ]
  },
  {
   "cell_type": "code",
   "execution_count": null,
   "metadata": {},
   "outputs": [],
   "source": [
    "# BAR CHART CONTINENT OF ORIGIN\n",
    "# Count the number of attacks from each continent\n",
    "attack_counts = df['_source.geoip.continent_code'].value_counts()\n",
    "# Remove Antartica for visualization-->just 94 attacks\n",
    "attack_counts = attack_counts.drop(['AN'])\n",
    "\n",
    "# Create a color palette (e.g., using a seaborn color palette)\n",
    "colors = sns.color_palette(\"rocket\",len(attack_counts))\n",
    "\n",
    "# Create a bar plot\n",
    "plt.figure(figsize=(12, 6))\n",
    "ax = attack_counts.plot(kind='bar', color=colors, width=0.7)  # Adjust width as needed\n",
    "\n",
    "# Adding grid lines\n",
    "ax.grid(axis='y', linestyle='--', alpha=0.7)\n",
    "\n",
    "plt.title('Cyberattacks by Continent of Origin', fontsize=14)\n",
    "plt.xlabel('Continent', fontsize=12)\n",
    "plt.ylabel('Number of Attacks', fontsize=12)\n",
    "\n",
    "# Millions variable\n",
    "ax.set_yticklabels(['{:.1f}M'.format(y/ 1e6) for y in ax.get_yticks()])\n",
    "# Rotate x-axis labels for better readability\n",
    "plt.xticks(rotation=45, ha='right')\n",
    "\n",
    "# Add a background color\n",
    "ax.set_facecolor('#f0f0f0')\n",
    "\n",
    "plt.show()"
   ]
  },
  {
   "cell_type": "code",
   "execution_count": null,
   "metadata": {},
   "outputs": [],
   "source": [
    "# BAR CHART COUNTRY OF ORIGIN\n",
    "# Count the number of attacks from each country\n",
    "attack_counts = df['_source.geoip.country_name'].value_counts().head(10)\n",
    "\n",
    "# Create a color palette (e.g., using a seaborn color palette)\n",
    "colors = sns.color_palette(\"rocket\",len(attack_counts))\n",
    "\n",
    "# Create a bar plot\n",
    "plt.figure(figsize=(12, 6))\n",
    "ax = attack_counts.plot(kind='bar', color=colors, width=0.7)  # Adjust width as needed\n",
    "\n",
    "# Adding grid lines\n",
    "ax.grid(axis='y', linestyle='--', alpha=0.7)\n",
    "\n",
    "plt.title('Cyberattacks by Country of Origin', fontsize=14)\n",
    "plt.xlabel('Country', fontsize=12)\n",
    "plt.ylabel('Number of Attacks', fontsize=12)\n",
    "\n",
    "# Thousands variable\n",
    "ax.set_yticklabels(['{:.0f}K'.format(y/ 1e3) for y in ax.get_yticks()])\n",
    "\n",
    "# Rotate x-axis labels for better readability\n",
    "plt.xticks(rotation=45, ha='right')\n",
    "\n",
    "# Add a background color\n",
    "ax.set_facecolor('#f0f0f0')\n",
    "\n",
    "plt.show()\n"
   ]
  },
  {
   "cell_type": "markdown",
   "metadata": {},
   "source": [
    "Observe that Asia is the continent with the highest number of cyberattacks, possibly due to the weak policies and regulations on the field. Nevertheless, notice also that USA is in the top! "
   ]
  },
  {
   "cell_type": "code",
   "execution_count": null,
   "metadata": {},
   "outputs": [],
   "source": [
    "# Read the data for the geographical chart\n",
    "df_map = pd.read_csv('../Data/Map_origin_attacks.csv')\n",
    "\n",
    "# Function to extract latitude and longitude using our data format\n",
    "def extract_lat_lon(row):\n",
    "    try:\n",
    "        coordinates = json.loads(row)\n",
    "        lat = coordinates['lat']\n",
    "        lon = coordinates['lon']\n",
    "        return lat, lon\n",
    "    except (ValueError, KeyError):\n",
    "        return None, None"
   ]
  },
  {
   "cell_type": "code",
   "execution_count": null,
   "metadata": {},
   "outputs": [],
   "source": [
    "# MAP CHART\n",
    "# Convert Count column to float value\n",
    "df_map['Count'] = df_map['Count'].str.replace(',', '').astype(float)\n",
    "\n",
    "# Extract the longitude and latitude\n",
    "df_map[['lat', 'lon']] = df_map['Geo Centroid'].apply(extract_lat_lon).apply(pd.Series)\n",
    "\n",
    "# Convert the DataFrame to a GeoDataFrame\n",
    "geometry = [Point(lon, lat) for lon, lat in zip(df_map['lon'], df_map['lat'])]\n",
    "gdf = gpd.GeoDataFrame(df_map, geometry=geometry)\n",
    "\n",
    "# Load the natural earth dataset as the base map\n",
    "world = gpd.read_file(gpd.datasets.get_path('naturalearth_lowres'))\n",
    "\n",
    "# Create a figure and axis\n",
    "fig, ax = plt.subplots(figsize=(12, 8))\n",
    "\n",
    "# Plot the 2D world map\n",
    "world.boundary.plot(ax=ax, linewidth=1)\n",
    "\n",
    "# Define the color and marker size based on 'Count' values\n",
    "colors = []\n",
    "sizes = []\n",
    "\n",
    "for count in gdf['Count']:\n",
    "    if 1 <= count < 2e6:\n",
    "        colors.append('yellow')\n",
    "        sizes.append(10)\n",
    "    elif 2e6 <= count < 2.5e6:\n",
    "        colors.append('orange')\n",
    "        sizes.append(60)\n",
    "    elif 2.5e6 <= count < 3.5e6:\n",
    "        colors.append('darkorange')\n",
    "        sizes.append(100)\n",
    "    elif 3.5e6 <= count <= 5e6:\n",
    "        colors.append('red')\n",
    "        sizes.append(200)\n",
    "    else:\n",
    "        colors.append('gray')  \n",
    "        sizes.append(10)\n",
    "\n",
    "# Plot the data points with variable marker size and color\n",
    "gdf.plot(ax=ax, markersize=sizes, color=colors, alpha=0.5, legend=True)\n",
    "# Create a custom legend\n",
    "legend_elements = [\n",
    "    Line2D([0], [0], marker='o', color='w', markerfacecolor='yellow', markersize=4, label='1M to 2M'),\n",
    "    Line2D([0], [0], marker='o', color='w', markerfacecolor='orange', markersize=5, label='2M to 2.5M'),\n",
    "    Line2D([0], [0], marker='o', color='w', markerfacecolor='darkorange', markersize=6, label='2.5M to 3.5M'),\n",
    "    Line2D([0], [0], marker='o', color='w', markerfacecolor='red', markersize=7, label='3.5M to 5M'),\n",
    "]\n",
    "\n",
    "# Add the legend to the plot\n",
    "ax.legend(handles=legend_elements, loc='best', title='Attack Count Range')\n",
    "\n",
    "# Set axis labels and title\n",
    "plt.title(\"Origin of attacks Geographic map\")\n",
    "\n",
    "# Show the map\n",
    "plt.show()\n"
   ]
  },
  {
   "cell_type": "markdown",
   "metadata": {},
   "source": [
    "### Attacks by Continent/Country destination"
   ]
  },
  {
   "cell_type": "code",
   "execution_count": null,
   "metadata": {},
   "outputs": [],
   "source": [
    "# BAR CHART CONTINENT OF ORIGIN\n",
    "# Count the number of attacks from each continent\n",
    "attack_counts = df['_source.hostGeoip.continent_code'].value_counts()\n",
    "\n",
    "# Create a color palette (e.g., using a seaborn color palette)\n",
    "colors = sns.color_palette(\"rocket\",len(attack_counts))\n",
    "\n",
    "# Create a bar plot\n",
    "plt.figure(figsize=(12, 6))\n",
    "ax = attack_counts.plot(kind='bar', color=colors, width=0.7)  # Adjust width as needed\n",
    "\n",
    "# Adding grid lines\n",
    "ax.grid(axis='y', linestyle='--', alpha=0.7)\n",
    "\n",
    "plt.title('Cyberattacks by Continent of Origin', fontsize=14)\n",
    "plt.xlabel('Continent', fontsize=12)\n",
    "plt.ylabel('Number of Attacks', fontsize=12)\n",
    "\n",
    "# Millions variable\n",
    "ax.set_yticklabels(['{:.1f}M'.format(y/ 1e6) for y in ax.get_yticks()])\n",
    "# Rotate x-axis labels for better readability\n",
    "plt.xticks(rotation=45, ha='right')\n",
    "\n",
    "# Add a background color\n",
    "ax.set_facecolor('#f0f0f0')\n",
    "\n",
    "plt.show()"
   ]
  },
  {
   "cell_type": "code",
   "execution_count": null,
   "metadata": {},
   "outputs": [],
   "source": [
    "# BAR CHART COUNTRY OF ORIGIN\n",
    "# Count the number of attacks from each country\n",
    "attack_counts = df['_source.hostGeoip.country_name'].value_counts().head(10)\n",
    "\n",
    "# Create a color palette (e.g., using a seaborn color palette)\n",
    "colors = sns.color_palette(\"rocket\",len(attack_counts))\n",
    "\n",
    "# Create a bar plot\n",
    "plt.figure(figsize=(12, 6))\n",
    "ax = attack_counts.plot(kind='bar', color=colors, width=0.7)  # Adjust width as needed\n",
    "\n",
    "# Adding grid lines\n",
    "ax.grid(axis='y', linestyle='--', alpha=0.7)\n",
    "\n",
    "plt.title('Cyberattacks by Country of Origin', fontsize=14)\n",
    "plt.xlabel('Country', fontsize=12)\n",
    "plt.ylabel('Number of Attacks', fontsize=12)\n",
    "\n",
    "# Thousands variable\n",
    "ax.set_yticklabels(['{:.0f}K'.format(y/ 1e3) for y in ax.get_yticks()])\n",
    "\n",
    "# Rotate x-axis labels for better readability\n",
    "plt.xticks(rotation=45, ha='right')\n",
    "\n",
    "# Add a background color\n",
    "ax.set_facecolor('#f0f0f0')\n",
    "\n",
    "plt.show()\n"
   ]
  },
  {
   "cell_type": "markdown",
   "metadata": {},
   "source": [
    "While Asia is the continent most affected by cyberattacks, when we examine it by countries, it becomes evident that the USA is the most affected country.\n",
    "\n",
    "We have seen that Asia is the continent with the highest number of cyberattacks. Are these attacks targeted to the USA?"
   ]
  },
  {
   "cell_type": "code",
   "execution_count": null,
   "metadata": {},
   "outputs": [],
   "source": [
    "# Attacks to USA\n",
    "df_USA = df[df['_source.hostGeoip.country_name'] =='United States']\n",
    "df_USA.reset_index(drop = True,inplace=True)\n",
    "\n",
    "# Count the number of attacks from each country\n",
    "attack_counts = df_USA['_source.geoip.continent_code'].value_counts()\n",
    "\n",
    "# Create a color palette (e.g., using a seaborn color palette)\n",
    "colors = sns.color_palette(\"rocket\",len(attack_counts))\n",
    "\n",
    "# Create a bar plot\n",
    "plt.figure(figsize=(12, 6))\n",
    "ax = attack_counts.plot(kind='bar', color=colors, width=0.7)  # Adjust width as needed\n",
    "\n",
    "# Adding grid lines\n",
    "ax.grid(axis='y', linestyle='--', alpha=0.7)\n",
    "\n",
    "plt.title('Cyberattacks by Continent of Origin', fontsize=14)\n",
    "plt.xlabel('Continent', fontsize=12)\n",
    "plt.ylabel('Number of Attacks', fontsize=12)\n",
    "\n",
    "# Thousands variable\n",
    "ax.set_yticklabels(['{:.0f}K'.format(y/ 1e3) for y in ax.get_yticks()])\n",
    "# Rotate x-axis labels for better readability\n",
    "plt.xticks(rotation=45, ha='right')\n",
    "\n",
    "# Add a background color\n",
    "ax.set_facecolor('#f0f0f0')\n",
    "\n",
    "plt.show()"
   ]
  },
  {
   "cell_type": "code",
   "execution_count": null,
   "metadata": {},
   "outputs": [],
   "source": []
  }
 ],
 "metadata": {
  "kernelspec": {
   "display_name": "Python 3",
   "language": "python",
   "name": "python3"
  },
  "language_info": {
   "codemirror_mode": {
    "name": "ipython",
    "version": 3
   },
   "file_extension": ".py",
   "mimetype": "text/x-python",
   "name": "python",
   "nbconvert_exporter": "python",
   "pygments_lexer": "ipython3",
   "version": "3.9.2"
  }
 },
 "nbformat": 4,
 "nbformat_minor": 2
}
