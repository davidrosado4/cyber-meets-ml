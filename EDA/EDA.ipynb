{
 "cells": [
  {
   "cell_type": "markdown",
   "metadata": {},
   "source": [
    "# Exploratory Data Analysis (EDA)\n",
    "This notebook contains the code for visualizing the data and gaining insights from it."
   ]
  },
  {
   "cell_type": "code",
   "execution_count": null,
   "metadata": {},
   "outputs": [],
   "source": [
    "# Requiered imports\n",
    "import pandas as pd\n",
    "import matplotlib.pyplot as plt\n",
    "import seaborn as sns\n",
    "from wordcloud import WordCloud\n",
    "import geopandas as gpd\n",
    "import json\n",
    "from matplotlib.lines import Line2D\n",
    "from tqdm import tqdm\n",
    "from shapely.geometry import Point\n",
    "import warnings\n",
    "warnings.filterwarnings(\"ignore\")"
   ]
  },
  {
   "cell_type": "code",
   "execution_count": null,
   "metadata": {},
   "outputs": [],
   "source": [
    "# Read and visualize data\n",
    "df = pd.read_csv(\"../Data/Cluster_data.csv\")\n",
    "df"
   ]
  },
  {
   "cell_type": "code",
   "execution_count": null,
   "metadata": {},
   "outputs": [],
   "source": [
    "# Check null values\n",
    "df.isnull().sum()"
   ]
  },
  {
   "cell_type": "markdown",
   "metadata": {},
   "source": [
    "The NaN values in geoip.continent_code and hostGeoip.continent_code corresponds actually to the North America(NA) continent. This is easily observed by examining the countries with NaN values, they are all from NA. Let us correct the values"
   ]
  },
  {
   "cell_type": "code",
   "execution_count": null,
   "metadata": {},
   "outputs": [],
   "source": [
    "df['_source.geoip.continent_code'] = df['_source.geoip.continent_code'].fillna('NA')\n",
    "df['_source.hostGeoip.continent_code'] = df['_source.hostGeoip.continent_code'].fillna('NA')"
   ]
  },
  {
   "cell_type": "markdown",
   "metadata": {},
   "source": [
    "## General EDA"
   ]
  },
  {
   "cell_type": "markdown",
   "metadata": {},
   "source": [
    "### Attacks by Continent/Country of Origin"
   ]
  },
  {
   "cell_type": "code",
   "execution_count": null,
   "metadata": {},
   "outputs": [],
   "source": [
    "# BAR CHART CONTINENT OF ORIGIN\n",
    "# Count the number of attacks from each continent\n",
    "attack_counts = df['_source.geoip.continent_code'].value_counts()\n",
    "# Remove Antartica for visualization-->just 94 attacks\n",
    "attack_counts = attack_counts.drop(['AN'])\n",
    "\n",
    "# Create a color palette (e.g., using a seaborn color palette)\n",
    "colors = sns.color_palette(\"rocket\",len(attack_counts))\n",
    "\n",
    "# Create a bar plot\n",
    "plt.figure(figsize=(12, 6))\n",
    "ax = attack_counts.plot(kind='bar', color=colors, width=0.7)  # Adjust width as needed\n",
    "\n",
    "# Adding grid lines\n",
    "ax.grid(axis='y', linestyle='--', alpha=0.7)\n",
    "\n",
    "plt.title('Cyberattacks by Continent of Origin', fontsize=14)\n",
    "plt.xlabel('Continent', fontsize=12)\n",
    "plt.ylabel('Number of Attacks', fontsize=12)\n",
    "\n",
    "# Millions variable\n",
    "ax.set_yticklabels(['{:.1f}M'.format(y/ 1e6) for y in ax.get_yticks()])\n",
    "# Rotate x-axis labels for better readability\n",
    "plt.xticks(rotation=45, ha='right')\n",
    "\n",
    "# Add a background color\n",
    "ax.set_facecolor('#f0f0f0')\n",
    "\n",
    "plt.show()"
   ]
  },
  {
   "cell_type": "code",
   "execution_count": null,
   "metadata": {},
   "outputs": [],
   "source": [
    "# BAR CHART COUNTRY OF ORIGIN\n",
    "# Count the number of attacks from each country\n",
    "attack_counts = df['_source.geoip.country_name'].value_counts().head(10)\n",
    "\n",
    "# Create a color palette (e.g., using a seaborn color palette)\n",
    "colors = sns.color_palette(\"rocket\",len(attack_counts))\n",
    "\n",
    "# Create a bar plot\n",
    "plt.figure(figsize=(12, 6))\n",
    "ax = attack_counts.plot(kind='bar', color=colors, width=0.7)  # Adjust width as needed\n",
    "\n",
    "# Adding grid lines\n",
    "ax.grid(axis='y', linestyle='--', alpha=0.7)\n",
    "\n",
    "plt.title('Cyberattacks by Country of Origin', fontsize=14)\n",
    "plt.xlabel('Country', fontsize=12)\n",
    "plt.ylabel('Number of Attacks', fontsize=12)\n",
    "\n",
    "# Thousands variable\n",
    "ax.set_yticklabels(['{:.0f}K'.format(y/ 1e3) for y in ax.get_yticks()])\n",
    "\n",
    "# Rotate x-axis labels for better readability\n",
    "plt.xticks(rotation=45, ha='right')\n",
    "\n",
    "# Add a background color\n",
    "ax.set_facecolor('#f0f0f0')\n",
    "\n",
    "plt.show()\n"
   ]
  },
  {
   "cell_type": "markdown",
   "metadata": {},
   "source": [
    "Observe that Asia is the continent with the highest number of cyberattacks, possibly due to the weak policies and regulations on the field. Nevertheless, notice also that USA is in the top! "
   ]
  },
  {
   "cell_type": "code",
   "execution_count": null,
   "metadata": {},
   "outputs": [],
   "source": [
    "# Read the data for the geographical chart\n",
    "df_map = pd.read_csv('../Data/Map_origin_attacks.csv')\n",
    "\n",
    "# Function to extract latitude and longitude using our data format\n",
    "def extract_lat_lon(row):\n",
    "    try:\n",
    "        coordinates = json.loads(row)\n",
    "        lat = coordinates['lat']\n",
    "        lon = coordinates['lon']\n",
    "        return lat, lon\n",
    "    except (ValueError, KeyError):\n",
    "        return None, None"
   ]
  },
  {
   "cell_type": "code",
   "execution_count": null,
   "metadata": {},
   "outputs": [],
   "source": [
    "# MAP CHART\n",
    "# Convert Count column to float value\n",
    "df_map['Count'] = df_map['Count'].str.replace(',', '').astype(float)\n",
    "\n",
    "# Extract the longitude and latitude\n",
    "df_map[['lat', 'lon']] = df_map['Geo Centroid'].apply(extract_lat_lon).apply(pd.Series)\n",
    "\n",
    "# Convert the DataFrame to a GeoDataFrame\n",
    "geometry = [Point(lon, lat) for lon, lat in zip(df_map['lon'], df_map['lat'])]\n",
    "gdf = gpd.GeoDataFrame(df_map, geometry=geometry)\n",
    "\n",
    "# Load the natural earth dataset as the base map\n",
    "world = gpd.read_file(gpd.datasets.get_path('naturalearth_lowres'))\n",
    "\n",
    "# Create a figure and axis\n",
    "fig, ax = plt.subplots(figsize=(12, 8))\n",
    "\n",
    "# Plot the 2D world map\n",
    "world.boundary.plot(ax=ax, linewidth=1)\n",
    "\n",
    "# Define the color and marker size based on 'Count' values\n",
    "colors = []\n",
    "sizes = []\n",
    "\n",
    "for count in gdf['Count']:\n",
    "    if 1 <= count < 2e6:\n",
    "        colors.append('yellow')\n",
    "        sizes.append(10)\n",
    "    elif 2e6 <= count < 2.5e6:\n",
    "        colors.append('orange')\n",
    "        sizes.append(60)\n",
    "    elif 2.5e6 <= count < 3.5e6:\n",
    "        colors.append('darkorange')\n",
    "        sizes.append(100)\n",
    "    elif 3.5e6 <= count <= 5e6:\n",
    "        colors.append('red')\n",
    "        sizes.append(200)\n",
    "    else:\n",
    "        colors.append('gray')  \n",
    "        sizes.append(10)\n",
    "\n",
    "# Plot the data points with variable marker size and color\n",
    "gdf.plot(ax=ax, markersize=sizes, color=colors, alpha=0.5, legend=True)\n",
    "# Create a custom legend\n",
    "legend_elements = [\n",
    "    Line2D([0], [0], marker='o', color='w', markerfacecolor='yellow', markersize=4, label='1M to 2M'),\n",
    "    Line2D([0], [0], marker='o', color='w', markerfacecolor='orange', markersize=5, label='2M to 2.5M'),\n",
    "    Line2D([0], [0], marker='o', color='w', markerfacecolor='darkorange', markersize=6, label='2.5M to 3.5M'),\n",
    "    Line2D([0], [0], marker='o', color='w', markerfacecolor='red', markersize=7, label='3.5M to 5M'),\n",
    "]\n",
    "\n",
    "# Add the legend to the plot\n",
    "ax.legend(handles=legend_elements, loc='best', title='Attack Count Range')\n",
    "\n",
    "# Set axis labels and title\n",
    "plt.title(\"Origin of attacks Geographic map\")\n",
    "\n",
    "# Show the map\n",
    "plt.show()\n"
   ]
  },
  {
   "cell_type": "markdown",
   "metadata": {},
   "source": [
    "### Attacks by Continent/Country destination"
   ]
  },
  {
   "cell_type": "code",
   "execution_count": null,
   "metadata": {},
   "outputs": [],
   "source": [
    "# BAR CHART CONTINENT OF ORIGIN\n",
    "# Count the number of attacks from each continent\n",
    "attack_counts = df['_source.hostGeoip.continent_code'].value_counts()\n",
    "\n",
    "# Create a color palette (e.g., using a seaborn color palette)\n",
    "colors = sns.color_palette(\"rocket\",len(attack_counts))\n",
    "\n",
    "# Create a bar plot\n",
    "plt.figure(figsize=(12, 6))\n",
    "ax = attack_counts.plot(kind='bar', color=colors, width=0.7)  # Adjust width as needed\n",
    "\n",
    "# Adding grid lines\n",
    "ax.grid(axis='y', linestyle='--', alpha=0.7)\n",
    "\n",
    "plt.title('Cyberattacks by Continent of Origin', fontsize=14)\n",
    "plt.xlabel('Continent', fontsize=12)\n",
    "plt.ylabel('Number of Attacks', fontsize=12)\n",
    "\n",
    "# Millions variable\n",
    "ax.set_yticklabels(['{:.1f}M'.format(y/ 1e6) for y in ax.get_yticks()])\n",
    "# Rotate x-axis labels for better readability\n",
    "plt.xticks(rotation=45, ha='right')\n",
    "\n",
    "# Add a background color\n",
    "ax.set_facecolor('#f0f0f0')\n",
    "\n",
    "plt.show()"
   ]
  },
  {
   "cell_type": "code",
   "execution_count": null,
   "metadata": {},
   "outputs": [],
   "source": [
    "# BAR CHART COUNTRY OF ORIGIN\n",
    "# Count the number of attacks from each country\n",
    "attack_counts = df['_source.hostGeoip.country_name'].value_counts().head(10)\n",
    "\n",
    "# Create a color palette (e.g., using a seaborn color palette)\n",
    "colors = sns.color_palette(\"rocket\",len(attack_counts))\n",
    "\n",
    "# Create a bar plot\n",
    "plt.figure(figsize=(12, 6))\n",
    "ax = attack_counts.plot(kind='bar', color=colors, width=0.7)  # Adjust width as needed\n",
    "\n",
    "# Adding grid lines\n",
    "ax.grid(axis='y', linestyle='--', alpha=0.7)\n",
    "\n",
    "plt.title('Cyberattacks by Country of Origin', fontsize=14)\n",
    "plt.xlabel('Country', fontsize=12)\n",
    "plt.ylabel('Number of Attacks', fontsize=12)\n",
    "\n",
    "# Thousands variable\n",
    "ax.set_yticklabels(['{:.0f}K'.format(y/ 1e3) for y in ax.get_yticks()])\n",
    "\n",
    "# Rotate x-axis labels for better readability\n",
    "plt.xticks(rotation=45, ha='right')\n",
    "\n",
    "# Add a background color\n",
    "ax.set_facecolor('#f0f0f0')\n",
    "\n",
    "plt.show()\n"
   ]
  },
  {
   "cell_type": "markdown",
   "metadata": {},
   "source": [
    "While Asia is the continent most affected by cyberattacks, when we examine it by countries, it becomes evident that the USA is the most affected country.\n",
    "\n",
    "We have seen that Asia is the continent with the highest number of cyberattacks. Are these attacks targeted to the USA?"
   ]
  },
  {
   "cell_type": "code",
   "execution_count": null,
   "metadata": {},
   "outputs": [],
   "source": [
    "# ATTACKS TO USA\n",
    "df_USA = df[df['_source.hostGeoip.country_name'] =='United States']\n",
    "df_USA.reset_index(drop = True,inplace=True)\n",
    "\n",
    "# Count the number of attacks from each country\n",
    "attack_counts = df_USA['_source.geoip.continent_code'].value_counts()\n",
    "\n",
    "# Create a color palette (e.g., using a seaborn color palette)\n",
    "colors = sns.color_palette(\"rocket\",len(attack_counts))\n",
    "\n",
    "# Create a bar plot\n",
    "plt.figure(figsize=(12, 6))\n",
    "ax = attack_counts.plot(kind='bar', color=colors, width=0.7)  # Adjust width as needed\n",
    "\n",
    "# Adding grid lines\n",
    "ax.grid(axis='y', linestyle='--', alpha=0.7)\n",
    "\n",
    "plt.title('Cyberattacks by Continent of Origin', fontsize=14)\n",
    "plt.xlabel('Continent', fontsize=12)\n",
    "plt.ylabel('Number of Attacks', fontsize=12)\n",
    "\n",
    "# Thousands variable\n",
    "ax.set_yticklabels(['{:.0f}K'.format(y/ 1e3) for y in ax.get_yticks()])\n",
    "# Rotate x-axis labels for better readability\n",
    "plt.xticks(rotation=45, ha='right')\n",
    "\n",
    "# Add a background color\n",
    "ax.set_facecolor('#f0f0f0')\n",
    "\n",
    "plt.show()"
   ]
  },
  {
   "cell_type": "markdown",
   "metadata": {},
   "source": [
    "20% of the attacks of Asian origin are targeted to USA."
   ]
  },
  {
   "cell_type": "markdown",
   "metadata": {},
   "source": [
    "### Protocol and SSH version"
   ]
  },
  {
   "cell_type": "code",
   "execution_count": null,
   "metadata": {},
   "outputs": [],
   "source": [
    "# PIE CHART PROTOCOLS\n",
    "# Count the occurrences of each unique value in the column\n",
    "protocol_counts = df['_source.protocol'].value_counts()\n",
    "\n",
    "# Create a pie chart\n",
    "plt.figure(figsize=(8, 8))\n",
    "plt.pie(protocol_counts, autopct='%1.1f%%', startangle=140)\n",
    "plt.axis('equal')  # Equal aspect ratio ensures that pie is drawn as a circle.\n",
    "\n",
    "# Add legend\n",
    "plt.legend(['SSH', 'Telnet'], title='Protocols',bbox_to_anchor=(1, 1))\n",
    "\n",
    "plt.title('Protocol Distribution')\n",
    "plt.show()\n"
   ]
  },
  {
   "cell_type": "code",
   "execution_count": null,
   "metadata": {},
   "outputs": [],
   "source": [
    "# PIE CHART PROTOCOLS SSH VERSION\n",
    "value_counts = df['_source.version'].value_counts()\n",
    "\n",
    "# Select the top 3 values\n",
    "top_3 = value_counts.head(3)\n",
    "\n",
    "# Sum the counts of the remaining values and create a new row for 'OTHERS'\n",
    "others_count = value_counts[3:].sum()\n",
    "top_3['Others'] = others_count\n",
    "\n",
    "# Create a pie chart\n",
    "plt.figure(figsize=(8, 8))\n",
    "plt.pie(top_3, autopct='%1.1f%%', startangle=140,textprops={'fontsize': 7})\n",
    "plt.axis('equal')  # Equal aspect ratio ensures that pie is drawn as a circle.\n",
    "\n",
    "# Add legend\n",
    "plt.legend(top_3.index, title='Protocols', bbox_to_anchor=(1, 1))\n",
    "\n",
    "plt.title('Protocol version Distribution')\n",
    "plt.show()"
   ]
  },
  {
   "cell_type": "markdown",
   "metadata": {},
   "source": [
    "### Attack duration"
   ]
  },
  {
   "cell_type": "code",
   "execution_count": null,
   "metadata": {},
   "outputs": [],
   "source": [
    "# Computing attack duration\n",
    "# Convert time to datetime to perform operations and compute the attack duration\n",
    "df['Attack_duration'] = pd.to_datetime(df['_source.endTime']) - pd.to_datetime(df['_source.startTime'])\n",
    "\n",
    "# Time distribution\n",
    "# Convert the Attack_duration to Timedelta objects\n",
    "df['Attack_duration'] = pd.to_timedelta(df['Attack_duration'])\n",
    "\n",
    "# Define the time interval groups (1-minute intervals)\n",
    "time_intervals = pd.to_timedelta(pd.Series([f'{i}T' for i in range(0, 16)]))\n",
    "\n",
    "# Use cut to categorize the timedelta values into the specified time intervals\n",
    "df['time_interval'] = pd.cut(df['Attack_duration'], time_intervals)\n",
    "\n",
    "# Group by the time intervals and calculate the count of time values in each group\n",
    "grouped = df.groupby('time_interval').size()\n",
    "# Drop the created column\n",
    "df = df.drop(['time_interval'], axis = 1)\n",
    "print(grouped)"
   ]
  },
  {
   "cell_type": "markdown",
   "metadata": {},
   "source": [
    "Let us visualize the data with a histogram."
   ]
  },
  {
   "cell_type": "code",
   "execution_count": null,
   "metadata": {},
   "outputs": [],
   "source": [
    "# Histogram from 1 to 15 minutes\n",
    "# Calculate the time interval values in minutes\n",
    "time_intervals_minutes = [interval.total_seconds() / 60 for interval in time_intervals]\n",
    "\n",
    "# Exclude the first interval\n",
    "time_intervals_minutes = time_intervals_minutes[1:]\n",
    "\n",
    "# Create the histogram\n",
    "plt.figure(figsize=(10, 6))\n",
    "plt.hist(df['Attack_duration'].dt.total_seconds() / 60, bins=time_intervals_minutes, edgecolor='k')\n",
    "plt.title('Attack Duration')\n",
    "plt.xlabel('Attack Duration (Minutes)')\n",
    "plt.ylabel('Frequency')\n",
    "plt.xticks(time_intervals_minutes)  # Setting the x-axis ticks to match the time intervals\n",
    "plt.grid(axis='y', linestyle='--', alpha=0.7)\n",
    "plt.show()"
   ]
  },
  {
   "cell_type": "code",
   "execution_count": null,
   "metadata": {},
   "outputs": [],
   "source": [
    "# Histogram from 0 to 1 minutes\n",
    "\n",
    "new_time_intervals = pd.to_timedelta(pd.Series([f'{i}S' for i in range(0, 61, 5)]))\n",
    "\n",
    "# Use cut to categorize the 'Attack_duration' values into the specified time intervals\n",
    "df['new_time_interval'] = pd.cut(df['Attack_duration'], new_time_intervals)\n",
    "\n",
    "# Group by the new time intervals and calculate the count of time values in each group\n",
    "new_grouped = df.groupby('new_time_interval').size()\n",
    "# Drop the created column\n",
    "df = df.drop(['new_time_interval'], axis=1)\n",
    "# Calculate the time interval values in seconds\n",
    "new_time_intervals_seconds = [interval.total_seconds() for interval in new_time_intervals]\n",
    "\n",
    "# Create the new histogram\n",
    "plt.figure(figsize=(10, 6))\n",
    "plt.hist(df['Attack_duration'].dt.total_seconds(), bins=new_time_intervals_seconds, edgecolor='k')\n",
    "plt.title('Attack Duration (First minute)')\n",
    "plt.xlabel('Attack Duration (Seconds)')\n",
    "plt.ylabel('Frequency')\n",
    "plt.xticks(new_time_intervals_seconds)  # Setting the x-axis ticks to match the time intervals\n",
    "plt.grid(axis='y', linestyle='--', alpha=0.7)\n",
    "plt.show()"
   ]
  },
  {
   "cell_type": "markdown",
   "metadata": {},
   "source": [
    "We observed a strong tendency to short attacks."
   ]
  },
  {
   "cell_type": "markdown",
   "metadata": {},
   "source": [
    "### User/Password combination"
   ]
  },
  {
   "cell_type": "code",
   "execution_count": null,
   "metadata": {},
   "outputs": [],
   "source": [
    "# Function to extract the password\n",
    "def extract_password(name):\n",
    "    name_list = eval(name)  # Convert the string to a list\n",
    "    if len(name_list) >= 2:\n",
    "        return name_list[1]\n",
    "    else:\n",
    "        return ''"
   ]
  },
  {
   "cell_type": "code",
   "execution_count": null,
   "metadata": {},
   "outputs": [],
   "source": [
    "# WORD CLOUD CHART\n",
    "# Perform the count of the passwords\n",
    "password_count =  df['_source.loggedin'].apply(extract_password).value_counts()\n",
    "# Generate the wordcloud chart\n",
    "wordcloud = WordCloud(width=800, height=400, background_color='white',\n",
    "                      colormap='viridis', max_words=200, max_font_size=150,\n",
    "                      min_font_size=10).generate_from_frequencies(password_count)\n",
    "plt.figure(figsize=(10, 5))\n",
    "plt.imshow(wordcloud, interpolation='bilinear')\n",
    "plt.axis('off')\n",
    "plt.show()"
   ]
  },
  {
   "cell_type": "markdown",
   "metadata": {},
   "source": [
    "The required character count for a password is crucial information. It's reasonable to assume that longer passwords are harder to guess, making it more challenging for unauthorized access to the intended system."
   ]
  },
  {
   "cell_type": "code",
   "execution_count": null,
   "metadata": {},
   "outputs": [],
   "source": [
    "# LENGTH PASSWORD DISTRIBUTION\n",
    "# Function to calculate length\n",
    "def calculate_length(command):\n",
    "    return len(command)\n",
    "# Extract password\n",
    "passwords = df['_source.loggedin'].apply(lambda x: extract_password(x))\n",
    "# Compute length\n",
    "df['length_password'] = passwords.apply(lambda x: calculate_length(x))\n",
    "\n",
    "# Define the intervals\n",
    "intervals = [(0,4),(4,7),(7, 10), (10, 13), (13, 16), (16, 19), (19, 22), (22, 25), (25, 28), (28, 31),(31,34),(34,37),\n",
    "             (37,40),(40,45),(45,50),(50,60),(60,1000),(1000,10000)]\n",
    "\n",
    "# Use pd.cut to categorize the length into the defined intervals\n",
    "df['length_password'] = pd.cut(df['length_password'], bins=[i for i, j in intervals], labels=[f\"{i}-{j}\" for i, j in intervals[:-1]])\n",
    "\n",
    "# Group by the intervals and count the values in each interval\n",
    "interval_counts = df['length_password'].value_counts().reset_index()\n",
    "interval_counts.columns = ['Interval', 'Count']\n",
    "\n",
    "# Sort the intervals in ascending order\n",
    "interval_counts = interval_counts.sort_values(by='Interval')\n",
    "\n",
    "# Reset the index\n",
    "interval_counts = interval_counts.reset_index(drop=True)\n",
    "\n",
    "# Display the resulting table\n",
    "print(interval_counts)"
   ]
  },
  {
   "cell_type": "markdown",
   "metadata": {},
   "source": [
    "Let us see the most used password by continent"
   ]
  },
  {
   "cell_type": "code",
   "execution_count": null,
   "metadata": {},
   "outputs": [],
   "source": [
    "# Add the password column\n",
    "df['password'] =  df['_source.loggedin'].apply(extract_password)\n",
    "\n",
    "# Group the DataFrame by destination continent\n",
    "grouped = df.groupby('_source.hostGeoip.continent_code')\n",
    "\n",
    "# Define a function to get the top three passwords for each group\n",
    "def get_top_passwords(group):\n",
    "    return group['password'].value_counts().nlargest(3)\n",
    "\n",
    "# Apply the function to each group and combine the results\n",
    "top_passwords_by_continent = grouped.apply(get_top_passwords)\n",
    "\n",
    "# Reset the index to have a clean DataFrame\n",
    "top_passwords_by_continent = top_passwords_by_continent.reset_index()\n",
    "\n",
    "# Rename the columns for clarity\n",
    "top_passwords_by_continent.columns = ['_source.hostGeoip.continent_code', 'password', 'count']\n",
    "\n",
    "# Display the result\n",
    "top_passwords_by_continent\n"
   ]
  },
  {
   "cell_type": "markdown",
   "metadata": {},
   "source": [
    "### Commands fully emulated by the attackant"
   ]
  },
  {
   "cell_type": "code",
   "execution_count": null,
   "metadata": {},
   "outputs": [],
   "source": [
    "# PIE CHART MOST COMMON COMMANDS\n",
    "value_counts = df['_source.commands'].value_counts()\n",
    "\n",
    "# Select the top 3 values\n",
    "top_3 = value_counts.head(3)\n",
    "\n",
    "# Sum the counts of the remaining values and create a new row for 'OTHERS'\n",
    "others_count = value_counts[3:].sum()\n",
    "top_3['Others'] = others_count\n",
    "\n",
    "# Create a pie chart\n",
    "plt.figure(figsize=(8, 8))\n",
    "plt.pie(top_3, autopct='%1.1f%%', startangle=140,textprops={'fontsize': 7})\n",
    "plt.axis('equal')  # Equal aspect ratio ensures that pie is drawn as a circle.\n",
    "\n",
    "# Truncate legend labels to the first 20 characters\n",
    "legend_labels = [label[:20] + '...' if len(label) > 20 else label for label in top_3.index]\n",
    "\n",
    "# Add legend\n",
    "plt.legend(legend_labels, title='Commands', bbox_to_anchor=(1, 1))\n",
    "plt.title('Most used commands')\n",
    "plt.show()"
   ]
  },
  {
   "cell_type": "markdown",
   "metadata": {},
   "source": [
    "### IP & Port information"
   ]
  },
  {
   "cell_type": "code",
   "execution_count": null,
   "metadata": {},
   "outputs": [],
   "source": [
    "print(\"Count of unique IP by the attackans:\",df['_source.peerIP'].nunique())# Few cyberattacks in relation with the 5M of attacks\n",
    "print(\"Count of unique used port by the attackans:\",df['_source.peerPort'].nunique())"
   ]
  },
  {
   "cell_type": "code",
   "execution_count": null,
   "metadata": {},
   "outputs": [],
   "source": [
    "print(\"Count of unique IP of the one who recieved the attack:\",df['_source.hostIP'].nunique()) #--> We have 211 sensors\n",
    "print(\"Count of unique used port of the one who recieved the attack:\",df['_source.hostPort'].nunique())"
   ]
  },
  {
   "cell_type": "markdown",
   "metadata": {},
   "source": [
    "## EDA for specific country\n",
    "Let's carry out the same analysis with the attacks that target Spain."
   ]
  },
  {
   "cell_type": "code",
   "execution_count": null,
   "metadata": {},
   "outputs": [],
   "source": [
    "# Get the data\n",
    "df_spain = df[df['_source.hostGeoip.country_name'] =='Spain']\n",
    "df_spain.reset_index(drop = True,inplace=True)"
   ]
  },
  {
   "cell_type": "code",
   "execution_count": null,
   "metadata": {},
   "outputs": [],
   "source": [
    "# BAR CHART CONTINENT OF ORIGIN\n",
    "# Count the number of attacks from each continent\n",
    "attack_counts = df_spain['_source.geoip.continent_code'].value_counts()\n",
    "\n",
    "# Create a color palette (e.g., using a seaborn color palette)\n",
    "colors = sns.color_palette(\"rocket\",len(attack_counts))\n",
    "\n",
    "# Create a bar plot\n",
    "plt.figure(figsize=(12, 6))\n",
    "ax = attack_counts.plot(kind='bar', color=colors, width=0.7)  # Adjust width as needed\n",
    "\n",
    "# Adding grid lines\n",
    "ax.grid(axis='y', linestyle='--', alpha=0.7)\n",
    "\n",
    "plt.title('Cyberattacks by Continent of Origin', fontsize=14)\n",
    "plt.xlabel('Continent', fontsize=12)\n",
    "plt.ylabel('Number of Attacks', fontsize=12)\n",
    "\n",
    "# Millions variable\n",
    "ax.set_yticklabels(['{:.1f}M'.format(y/ 1e6) for y in ax.get_yticks()])\n",
    "# Rotate x-axis labels for better readability\n",
    "plt.xticks(rotation=45, ha='right')\n",
    "\n",
    "# Add a background color\n",
    "ax.set_facecolor('#f0f0f0')\n",
    "\n",
    "plt.show()"
   ]
  },
  {
   "cell_type": "code",
   "execution_count": null,
   "metadata": {},
   "outputs": [],
   "source": [
    "# BAR CHART COUNTRY OF ORIGIN\n",
    "# Count the number of attacks from each country\n",
    "attack_counts = df_spain['_source.geoip.country_name'].value_counts().head(10)\n",
    "\n",
    "# Create a color palette (e.g., using a seaborn color palette)\n",
    "colors = sns.color_palette(\"rocket\",len(attack_counts))\n",
    "\n",
    "# Create a bar plot\n",
    "plt.figure(figsize=(12, 6))\n",
    "ax = attack_counts.plot(kind='bar', color=colors, width=0.7)  # Adjust width as needed\n",
    "\n",
    "# Adding grid lines\n",
    "ax.grid(axis='y', linestyle='--', alpha=0.7)\n",
    "\n",
    "plt.title('Cyberattacks by Country of Origin', fontsize=14)\n",
    "plt.xlabel('Country', fontsize=12)\n",
    "plt.ylabel('Number of Attacks', fontsize=12)\n",
    "\n",
    "# Thousands variable\n",
    "ax.set_yticklabels(['{:.0f}K'.format(y/ 1e3) for y in ax.get_yticks()])\n",
    "\n",
    "# Rotate x-axis labels for better readability\n",
    "plt.xticks(rotation=45, ha='right')\n",
    "\n",
    "# Add a background color\n",
    "ax.set_facecolor('#f0f0f0')\n",
    "\n",
    "plt.show()\n"
   ]
  },
  {
   "cell_type": "code",
   "execution_count": null,
   "metadata": {},
   "outputs": [],
   "source": [
    "# PIE CHART PROTOCOLS\n",
    "# Count the occurrences of each unique value in the column\n",
    "protocol_counts = df_spain['_source.protocol'].value_counts()\n",
    "\n",
    "# Create a pie chart\n",
    "plt.figure(figsize=(8, 8))\n",
    "plt.pie(protocol_counts, autopct='%1.1f%%', startangle=140)\n",
    "plt.axis('equal')  # Equal aspect ratio ensures that pie is drawn as a circle.\n",
    "\n",
    "# Add legend\n",
    "plt.legend(['SSH', 'Telnet'], title='Protocols',bbox_to_anchor=(1, 1))\n",
    "\n",
    "plt.title('Protocol Distribution')\n",
    "plt.show()\n"
   ]
  },
  {
   "cell_type": "code",
   "execution_count": null,
   "metadata": {},
   "outputs": [],
   "source": [
    "# PIE CHART PROTOCOLS SSH VERSION\n",
    "value_counts = df_spain['_source.version'].value_counts()\n",
    "\n",
    "# Select the top 3 values\n",
    "top_3 = value_counts.head(3)\n",
    "\n",
    "# Sum the counts of the remaining values and create a new row for 'OTHERS'\n",
    "others_count = value_counts[3:].sum()\n",
    "top_3['Others'] = others_count\n",
    "\n",
    "# Create a pie chart\n",
    "plt.figure(figsize=(8, 8))\n",
    "plt.pie(top_3, autopct='%1.1f%%', startangle=140,textprops={'fontsize': 7})\n",
    "plt.axis('equal')  # Equal aspect ratio ensures that pie is drawn as a circle.\n",
    "\n",
    "# Add legend\n",
    "plt.legend(top_3.index, title='Protocols', bbox_to_anchor=(1, 1))\n",
    "\n",
    "plt.title('Protocol version Distribution')\n",
    "plt.show()"
   ]
  },
  {
   "cell_type": "code",
   "execution_count": null,
   "metadata": {},
   "outputs": [],
   "source": [
    "# Computing attack duration\n",
    "# Convert time to datetime to perform operations and compute the attack duration\n",
    "df_spain['Attack_duration'] = pd.to_datetime(df_spain['_source.endTime']) - pd.to_datetime(df_spain['_source.startTime'])\n",
    "\n",
    "# Time distribution\n",
    "# Convert the Attack_duration to Timedelta objects\n",
    "df_spain['Attack_duration'] = pd.to_timedelta(df_spain['Attack_duration'])\n",
    "\n",
    "# Define the time interval groups (1-minute intervals)\n",
    "time_intervals = pd.to_timedelta(pd.Series([f'{i}T' for i in range(0, 16)]))\n",
    "\n",
    "# Use cut to categorize the timedelta values into the specified time intervals\n",
    "df_spain['time_interval'] = pd.cut(df_spain['Attack_duration'], time_intervals)\n",
    "\n",
    "# Group by the time intervals and calculate the count of time values in each group\n",
    "grouped = df_spain.groupby('time_interval').size()\n",
    "# Drop the created column\n",
    "df_spain = df_spain.drop(['time_interval'], axis = 1)\n",
    "print(grouped)"
   ]
  },
  {
   "cell_type": "code",
   "execution_count": null,
   "metadata": {},
   "outputs": [],
   "source": [
    "# Histogram from 1 to 15 minutes\n",
    "# Calculate the time interval values in minutes\n",
    "time_intervals_minutes = [interval.total_seconds() / 60 for interval in time_intervals]\n",
    "\n",
    "# Exclude the first interval\n",
    "time_intervals_minutes = time_intervals_minutes[1:]\n",
    "\n",
    "# Create the histogram\n",
    "plt.figure(figsize=(10, 6))\n",
    "plt.hist(df_spain['Attack_duration'].dt.total_seconds() / 60, bins=time_intervals_minutes, edgecolor='k')\n",
    "plt.title('Attack Duration')\n",
    "plt.xlabel('Attack Duration (Minutes)')\n",
    "plt.ylabel('Frequency')\n",
    "plt.xticks(time_intervals_minutes)  # Setting the x-axis ticks to match the time intervals\n",
    "plt.grid(axis='y', linestyle='--', alpha=0.7)\n",
    "plt.show()"
   ]
  },
  {
   "cell_type": "code",
   "execution_count": null,
   "metadata": {},
   "outputs": [],
   "source": [
    "# Histogram from 0 to 1 minutes\n",
    "\n",
    "new_time_intervals = pd.to_timedelta(pd.Series([f'{i}S' for i in range(0, 61, 5)]))\n",
    "\n",
    "# Use cut to categorize the 'Attack_duration' values into the specified time intervals\n",
    "df_spain['new_time_interval'] = pd.cut(df_spain['Attack_duration'], new_time_intervals)\n",
    "\n",
    "# Group by the new time intervals and calculate the count of time values in each group\n",
    "new_grouped = df_spain.groupby('new_time_interval').size()\n",
    "# Drop the created column\n",
    "df_spain = df_spain.drop(['new_time_interval'], axis=1)\n",
    "# Calculate the time interval values in seconds\n",
    "new_time_intervals_seconds = [interval.total_seconds() for interval in new_time_intervals]\n",
    "\n",
    "# Create the new histogram\n",
    "plt.figure(figsize=(10, 6))\n",
    "plt.hist(df_spain['Attack_duration'].dt.total_seconds(), bins=new_time_intervals_seconds, edgecolor='k')\n",
    "plt.title('Attack Duration (First minute)')\n",
    "plt.xlabel('Attack Duration (Seconds)')\n",
    "plt.ylabel('Frequency')\n",
    "plt.xticks(new_time_intervals_seconds)  # Setting the x-axis ticks to match the time intervals\n",
    "plt.grid(axis='y', linestyle='--', alpha=0.7)\n",
    "plt.show()"
   ]
  },
  {
   "cell_type": "code",
   "execution_count": null,
   "metadata": {},
   "outputs": [],
   "source": [
    "# WORD CLOUD CHART\n",
    "# Perform the count of the passwords\n",
    "password_count =  df_spain['_source.loggedin'].apply(extract_password).value_counts()\n",
    "# Generate the wordcloud chart\n",
    "wordcloud = WordCloud(width=800, height=400, background_color='white',\n",
    "                      colormap='viridis', max_words=200, max_font_size=150,\n",
    "                      min_font_size=10).generate_from_frequencies(password_count)\n",
    "plt.figure(figsize=(10, 5))\n",
    "plt.imshow(wordcloud, interpolation='bilinear')\n",
    "plt.axis('off')\n",
    "plt.show()"
   ]
  },
  {
   "cell_type": "code",
   "execution_count": null,
   "metadata": {},
   "outputs": [],
   "source": [
    "# LENGTH PASSWORD DISTRIBUTION\n",
    "# Function to calculate length\n",
    "def calculate_length(command):\n",
    "    return len(command)\n",
    "# Extract password\n",
    "passwords = df_spain['_source.loggedin'].apply(lambda x: extract_password(x))\n",
    "# Compute length\n",
    "df_spain['length_password'] = passwords.apply(lambda x: calculate_length(x))\n",
    "\n",
    "# Define the intervals\n",
    "intervals = [(0,4),(4,7),(7, 10), (10, 13), (13, 16), (16, 19), (19, 22), (22, 25), (25, 28), (28, 31),(31,1000),(1000,100000)]\n",
    "\n",
    "# Use pd.cut to categorize the length into the defined intervals\n",
    "df_spain['length_password'] = pd.cut(df_spain['length_password'], bins=[i for i, j in intervals], labels=[f\"{i}-{j}\" for i, j in intervals[:-1]])\n",
    "\n",
    "# Group by the intervals and count the values in each interval\n",
    "interval_counts = df_spain['length_password'].value_counts().reset_index()\n",
    "interval_counts.columns = ['Interval', 'Count']\n",
    "\n",
    "# Sort the intervals in ascending order\n",
    "interval_counts = interval_counts.sort_values(by='Interval')\n",
    "\n",
    "# Reset the index\n",
    "interval_counts = interval_counts.reset_index(drop=True)\n",
    "\n",
    "# Display the resulting table\n",
    "print(interval_counts)"
   ]
  },
  {
   "cell_type": "code",
   "execution_count": null,
   "metadata": {},
   "outputs": [],
   "source": [
    "# PIE CHART MOST COMMON COMMANDS\n",
    "value_counts = df_spain['_source.commands'].value_counts()\n",
    "\n",
    "# Select the top 3 values\n",
    "top_3 = value_counts.head(3)\n",
    "\n",
    "# Sum the counts of the remaining values and create a new row for 'OTHERS'\n",
    "others_count = value_counts[3:].sum()\n",
    "top_3['Others'] = others_count\n",
    "\n",
    "# Create a pie chart\n",
    "plt.figure(figsize=(8, 8))\n",
    "plt.pie(top_3, autopct='%1.1f%%', startangle=140,textprops={'fontsize': 7})\n",
    "plt.axis('equal')  # Equal aspect ratio ensures that pie is drawn as a circle.\n",
    "\n",
    "# Truncate legend labels to the first 20 characters\n",
    "legend_labels = [label[:20] + '...' if len(label) > 20 else label for label in top_3.index]\n",
    "\n",
    "# Add legend\n",
    "plt.legend(legend_labels, title='Commands', bbox_to_anchor=(1, 1))\n",
    "plt.title('Most used commands')\n",
    "plt.show()"
   ]
  },
  {
   "cell_type": "code",
   "execution_count": null,
   "metadata": {},
   "outputs": [],
   "source": [
    "print(\"Count of unique IP by the attackans:\",df_spain['_source.peerIP'].nunique())\n",
    "print(\"Count of unique used port by the attackans:\",df_spain['_source.peerPort'].nunique())"
   ]
  },
  {
   "cell_type": "code",
   "execution_count": null,
   "metadata": {},
   "outputs": [],
   "source": [
    "print(\"Count of unique IP of the one who recieved the attack:\",df_spain['_source.hostIP'].nunique()) #--> We have 3 sensors in Spain\n",
    "print(\"Count of unique used port of the one who recieved the attack:\",df_spain['_source.hostPort'].nunique())"
   ]
  },
  {
   "cell_type": "code",
   "execution_count": null,
   "metadata": {},
   "outputs": [],
   "source": []
  }
 ],
 "metadata": {
  "kernelspec": {
   "display_name": "Python 3",
   "language": "python",
   "name": "python3"
  },
  "language_info": {
   "codemirror_mode": {
    "name": "ipython",
    "version": 3
   },
   "file_extension": ".py",
   "mimetype": "text/x-python",
   "name": "python",
   "nbconvert_exporter": "python",
   "pygments_lexer": "ipython3",
   "version": "3.9.2"
  }
 },
 "nbformat": 4,
 "nbformat_minor": 2
}
