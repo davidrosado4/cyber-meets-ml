{
 "cells": [
  {
   "cell_type": "markdown",
   "metadata": {},
   "source": [
    "# Second Clustering Stage\n",
    "This notebook contains the code to create the second clustering stage. Here we focus in perform a further classification in clusters 1 and 2 given by the first stage. We extract features of the data to perform the clustering using K-prototypes and FAMD+K-means."
   ]
  },
  {
   "cell_type": "code",
   "execution_count": null,
   "metadata": {},
   "outputs": [],
   "source": [
    "# Required imports \n",
    "\n",
    "# Utils functions\n",
    "from utils import *\n",
    "\n",
    "# Ignore warnings\n",
    "import warnings\n",
    "warnings.filterwarnings('ignore')\n",
    "\n",
    "# General imports \n",
    "import pandas as pd\n",
    "import numpy as np\n",
    "import matplotlib.pyplot as plt\n",
    "import seaborn as sns\n",
    "from tqdm import tqdm\n",
    "from collections import Counter\n",
    "\n",
    "# ML imports\n",
    "from sklearn.feature_extraction.text import TfidfVectorizer\n",
    "from sklearn.preprocessing import MinMaxScaler\n",
    "from kmodes.kprototypes import KPrototypes\n",
    "from sklearn.cluster import KMeans\n",
    "\n",
    "# Dimensionality reduction \n",
    "import prince"
   ]
  },
  {
   "cell_type": "markdown",
   "metadata": {},
   "source": [
    "# Feature extraction"
   ]
  },
  {
   "cell_type": "markdown",
   "metadata": {},
   "source": [
    "Let us extract numerical and categorical data.  Then, we'll experiment with various clustering algorithms. Features we consider are:\n",
    "+ Attack duration in seconds\n",
    "+ Length and number of commands introduced by the cyberattacker\n",
    "+ Boolean variable showing if a link is downloaded by the attackant or not\n",
    "+ Boolean variable showing if chmod is used by the attackant or not\n",
    "+ Length of password\n",
    "+ Protocol variable\n",
    "+ Host port and Peer port\n",
    "+ Protocol version is not useful, there is more telnet than SSH and the version is only available for telnet\n",
    "+ Attacker location\n",
    "\n",
    "In clusters1 and clusters2 are found the majority of attacks via telnet!! In total there are 183.037 and in cluster1 and cluster2 there are 182.891. We can deduce that more threatining attacks are perform with telnet."
   ]
  },
  {
   "cell_type": "code",
   "execution_count": null,
   "metadata": {},
   "outputs": [],
   "source": [
    "# Read csv file\n",
    "df = pd.read_csv(\"../Data/Cluster_data_wlabels.csv\")\n",
    "\n",
    "# Consider data just in cluster 1 and 2\n",
    "df = df[df['spectral_cluster'].isin([1, 2])]\n",
    "\n",
    "# Command normalization\n",
    "df = command_normalization(df)\n",
    "\n",
    "# Feature extraction\n",
    "df_features = feature_extraction(df)\n",
    "\n",
    "# Divide the data in two dataframes, one for each cluster\n",
    "df_features1 = df_features[df_features['spectral_clustering'] == 1]\n",
    "df_features2 = df_features[df_features['spectral_clustering'] == 2]\n",
    "df_features1 = df_features1.drop(['spectral_clustering'], axis =1)\n",
    "df_features2 = df_features2.drop(['spectral_clustering'], axis =1)"
   ]
  },
  {
   "cell_type": "markdown",
   "metadata": {},
   "source": [
    "## Feature correlation\n",
    "Plot the correlation matrix for every dataframe to observe correlated features."
   ]
  },
  {
   "cell_type": "code",
   "execution_count": null,
   "metadata": {},
   "outputs": [],
   "source": [
    "# Correlation matrix for features from the first cluster\n",
    "plot_corr_mat(df_features1)\n",
    "\n",
    "# Correlation matrix for features from the second cluster\n",
    "plot_corr_mat(df_features2)"
   ]
  },
  {
   "cell_type": "code",
   "execution_count": null,
   "metadata": {},
   "outputs": [],
   "source": [
    "# Drop correlated features\n",
    "df_features1 = df_features1.drop(['host_port','length_command','peer_port'], axis = 1)\n",
    "df_features2 = df_features2.drop(['host_port','length_command','peer_port'], axis = 1)"
   ]
  },
  {
   "cell_type": "markdown",
   "metadata": {},
   "source": [
    "# Clustering data in the first group (Intermediate threat)"
   ]
  },
  {
   "cell_type": "markdown",
   "metadata": {},
   "source": [
    "## K-prototypes"
   ]
  },
  {
   "cell_type": "code",
   "execution_count": null,
   "metadata": {},
   "outputs": [],
   "source": [
    "# Scale the numerical data\n",
    "scaler = MinMaxScaler()\n",
    "df_features1_scaled = df_features1.copy()\n",
    "df_features1_scaled[['attack_duration','wcount_command','length_password']] = scaler.fit_transform(df_features1_scaled.drop(['link_download','chmod_found', 'protocol','continent_attacker'], axis=1))"
   ]
  },
  {
   "cell_type": "markdown",
   "metadata": {},
   "source": [
    "n_clusters selection using elbow plot"
   ]
  },
  {
   "cell_type": "code",
   "execution_count": null,
   "metadata": {},
   "outputs": [],
   "source": [
    "#Elbow plot with cost \n",
    "costs = []\n",
    "categorical_columns = [2,3,5,6]\n",
    "\n",
    "for k in tqdm(range(2, 10)):\n",
    "    kproto = KPrototypes(n_clusters=k, init='Huang', gamma=None, n_init=1, random_state=42)\n",
    "    kproto.fit(df_features1_scaled, categorical=categorical_columns)\n",
    "    costs.append(kproto.cost_)\n",
    "# Elbow plot\n",
    "plt.figure(1 , figsize = (15 ,6))\n",
    "plt.plot(np.arange(2 , 10) , costs , 'o')\n",
    "plt.plot(np.arange(2 , 10) , costs , '-' , alpha = 0.5)\n",
    "plt.xlabel('Number of Clusters')\n",
    "plt.ylabel('Distortion')\n",
    "plt.title('Elbow Plot')\n",
    "plt.show()"
   ]
  },
  {
   "cell_type": "markdown",
   "metadata": {},
   "source": [
    "3 clusters seems a good choice by examinig the elbow plot!"
   ]
  },
  {
   "cell_type": "code",
   "execution_count": null,
   "metadata": {},
   "outputs": [],
   "source": [
    "# Fit and predict for k = 3\n",
    "kproto = KPrototypes(n_clusters=3, init='Huang', gamma=None, n_init=1, random_state=42)\n",
    "clusters_kproto1 = kproto.fit_predict(df_features1_scaled, categorical=categorical_columns)\n",
    "\n",
    "# Append the clusters to the dataset\n",
    "df_features1['kproto_cluster'] = clusters_kproto1"
   ]
  },
  {
   "cell_type": "markdown",
   "metadata": {},
   "source": [
    "### K-prototypes visualization"
   ]
  },
  {
   "cell_type": "code",
   "execution_count": null,
   "metadata": {},
   "outputs": [],
   "source": [
    "# Clustering distribution for k-prototypes\n",
    "label_counts = Counter(clusters_kproto1)\n",
    "labels, counts = zip(*label_counts.items())\n",
    "\n",
    "# Create a figure and axes for the bar chart\n",
    "fig, ax = plt.subplots(figsize=(8, 5))\n",
    "\n",
    "# Customize the bar chart appearance\n",
    "ax.bar(labels, counts, color='skyblue', edgecolor='navy', alpha=0.7)\n",
    "ax.set_xlabel('Cluster', fontsize=14)\n",
    "ax.set_ylabel('Count', fontsize=14)\n",
    "ax.set_title('Cluster Distribution', fontsize=16, fontweight='bold')\n",
    "\n",
    "# Add grid lines for better readability\n",
    "ax.grid(axis='y', linestyle='--', alpha=0.6)\n",
    "\n",
    "\n",
    "# Set the x-ticks to show only the number of cluster\n",
    "ax.set_xticks([0, 1, 2])\n",
    "\n",
    "# Show the plot\n",
    "plt.tight_layout()\n",
    "plt.show()"
   ]
  },
  {
   "cell_type": "code",
   "execution_count": null,
   "metadata": {},
   "outputs": [],
   "source": [
    "# Multiple plots, clustering visualization\n",
    "cluster_visualization(df_features1,'kproto_cluster')"
   ]
  },
  {
   "cell_type": "code",
   "execution_count": null,
   "metadata": {},
   "outputs": [],
   "source": [
    "# Continent count per cluster\n",
    "grouped = df_features1.groupby(['kproto_cluster', 'continent_attacker']).size().unstack(fill_value=0)\n",
    "ax = grouped.plot(kind='bar', stacked=True, colormap='tab10')\n",
    "ax.set_xlabel('Cluster', fontsize=14)\n",
    "ax.set_ylabel('Count', fontsize=14)\n",
    "ax.set_title('Attacker Continent Distribution by cluster', fontsize=16, fontweight='bold')\n",
    "plt.legend(title='Continent Code', title_fontsize=12,loc='upper left', bbox_to_anchor=(1, 1))\n",
    "plt.grid(axis='y', linestyle='--', alpha=0.6)\n",
    "plt.show()"
   ]
  },
  {
   "cell_type": "markdown",
   "metadata": {},
   "source": [
    "We can observe how cluster 1 is mainly governed by EU while clusters 0 and 2 by Asia. Examining the previous plot, one notice that cluster 1 is the one that lasts the least (attack duration) and it is not downloading and executing as much files as the first cluster 0 (inside this intermediate level, is the less threatened). This is possiblty due to the weak policies of cybersecurity in Asia, leaving there the necessariry permissions to execute and download what they want, without any regulation."
   ]
  },
  {
   "cell_type": "markdown",
   "metadata": {},
   "source": [
    "## FAMD & K-means"
   ]
  },
  {
   "cell_type": "code",
   "execution_count": null,
   "metadata": {},
   "outputs": [],
   "source": [
    "# No scale is needed, is inside FAMD\n",
    "# Look for optimal n_components (Scree plot)\n",
    "famd = prince.FAMD(n_components=(len(df_features1.columns) - 1), n_iter=5,\n",
    "                   copy=True, check_input=True,random_state=42)\n",
    "famd.fit(df_features1.drop(['kproto_cluster'],axis=1))\n",
    "\n",
    "# Scree plot\n",
    "eigenvalues = famd.eigenvalues_\n",
    "plt.figure(1 , figsize = (15 ,6))\n",
    "plt.plot(range(1, len(eigenvalues) + 1), eigenvalues, marker='o')\n",
    "plt.plot(range(1, len(eigenvalues) + 1) , eigenvalues , '-' , alpha = 0.5)\n",
    "plt.title(\"Scree Plot\")\n",
    "plt.xlabel(\"Number of Components\")\n",
    "plt.ylabel(\"Eigenvalues\")\n",
    "plt.show()"
   ]
  },
  {
   "cell_type": "markdown",
   "metadata": {},
   "source": [
    "Let us keep components until we reach the 75% of the total variance."
   ]
  },
  {
   "cell_type": "code",
   "execution_count": null,
   "metadata": {},
   "outputs": [],
   "source": [
    "cumulative_variance = np.cumsum(famd.eigenvalues_ / sum(famd.eigenvalues_))\n",
    "n_components = np.argmax(cumulative_variance >= 0.75) + 1\n",
    "print('Optimal number of components using the 3/4 rule:',n_components)\n",
    "print('Fitting FAMD with n_components = 5....')\n",
    "# Fit FAMD for n_components = 5\n",
    "famd = prince.FAMD(n_components=5, n_iter=5,\n",
    "                   copy=True, check_input=True,random_state=42)\n",
    "famd.fit(df_features1.drop(['kproto_cluster'],axis=1))\n",
    "df_features1_famdkmeans = famd.row_coordinates(df_features1.drop(['kproto_cluster'],axis=1))"
   ]
  },
  {
   "cell_type": "markdown",
   "metadata": {},
   "source": [
    "Now we can perform K-means clustering to this data."
   ]
  },
  {
   "cell_type": "code",
   "execution_count": null,
   "metadata": {},
   "outputs": [],
   "source": [
    "# Scaling the data\n",
    "scaler = MinMaxScaler(feature_range=(-1,1)) # since we have negative and positive values\n",
    "df_features1_famdkmeans_scaled = scaler.fit_transform(df_features1_famdkmeans)"
   ]
  },
  {
   "cell_type": "markdown",
   "metadata": {},
   "source": [
    "Choose the optimal number of clusters for K-means using the elbow plot again."
   ]
  },
  {
   "cell_type": "code",
   "execution_count": null,
   "metadata": {},
   "outputs": [],
   "source": [
    "# Choosing the number of clusters for k-means\n",
    "inertia = []\n",
    "for k in tqdm(range(1, 10)):\n",
    "    km = KMeans(n_clusters = k ,init='k-means++',  random_state= 42  , algorithm='elkan')\n",
    "    km.fit(df_features1_famdkmeans_scaled )\n",
    "    inertia.append(km.inertia_)\n",
    "# Elbow plot\n",
    "plt.figure(1 , figsize = (15 ,6))\n",
    "plt.plot(np.arange(1 , 10) , inertia , 'o')\n",
    "plt.plot(np.arange(1 , 10) , inertia , '-' , alpha = 0.5)\n",
    "plt.xlabel('Number of Clusters') , plt.ylabel('Inertia')\n",
    "plt.show()"
   ]
  },
  {
   "cell_type": "markdown",
   "metadata": {},
   "source": [
    "2 or 3 could be a reasonable choice in this case. Let us choose 3 to win consistence with the previous method and have a better comparison."
   ]
  },
  {
   "cell_type": "code",
   "execution_count": null,
   "metadata": {},
   "outputs": [],
   "source": [
    "# Fit again for k=3\n",
    "km = KMeans(n_clusters = 3 ,init='k-means++',  random_state= 42  , algorithm='elkan')\n",
    "km.fit(df_features1_famdkmeans_scaled)\n",
    "clusters_kmeans1 = km.labels_\n",
    "# Append cluster labels to the dataframe\n",
    "df_features1['kmeans_cluster'] = clusters_kmeans1"
   ]
  },
  {
   "cell_type": "markdown",
   "metadata": {},
   "source": [
    "### FAMD & K-means visualization"
   ]
  },
  {
   "cell_type": "code",
   "execution_count": null,
   "metadata": {},
   "outputs": [],
   "source": [
    "# Clustering distribution for k-prototypes\n",
    "label_counts = Counter(clusters_kmeans1)\n",
    "labels, counts = zip(*label_counts.items())\n",
    "\n",
    "# Create a figure and axes for the bar chart\n",
    "fig, ax = plt.subplots(figsize=(8, 5))\n",
    "\n",
    "# Customize the bar chart appearance\n",
    "ax.bar(labels, counts, color='skyblue', edgecolor='navy', alpha=0.7)\n",
    "ax.set_xlabel('Cluster', fontsize=14)\n",
    "ax.set_ylabel('Count', fontsize=14)\n",
    "ax.set_title('Cluster Distribution', fontsize=16, fontweight='bold')\n",
    "\n",
    "# Add grid lines for better readability\n",
    "ax.grid(axis='y', linestyle='--', alpha=0.6)\n",
    "\n",
    "\n",
    "# Set the x-ticks to show only the number of cluster\n",
    "ax.set_xticks([0, 1, 2])\n",
    "\n",
    "# Show the plot\n",
    "plt.tight_layout()\n",
    "plt.show()"
   ]
  },
  {
   "cell_type": "code",
   "execution_count": null,
   "metadata": {},
   "outputs": [],
   "source": [
    "cluster_visualization(df_features1,'kmeans_cluster')"
   ]
  },
  {
   "cell_type": "code",
   "execution_count": null,
   "metadata": {},
   "outputs": [],
   "source": [
    "# Continent count per cluster\n",
    "grouped = df_features1.groupby(['kmeans_cluster', 'continent_attacker']).size().unstack(fill_value=0)\n",
    "ax = grouped.plot(kind='bar', stacked=True, colormap='tab10')\n",
    "ax.set_xlabel('Cluster', fontsize=14)\n",
    "ax.set_ylabel('Count', fontsize=14)\n",
    "ax.set_title('Attacker Continent Distribution by cluster', fontsize=16, fontweight='bold')\n",
    "plt.legend(title='Continent Code', title_fontsize=12,loc='upper left', bbox_to_anchor=(1, 1))\n",
    "plt.grid(axis='y', linestyle='--', alpha=0.6)\n",
    "plt.show()"
   ]
  },
  {
   "cell_type": "markdown",
   "metadata": {},
   "source": [
    "Worst results than K-prototypes."
   ]
  },
  {
   "cell_type": "markdown",
   "metadata": {},
   "source": [
    "# Clustering data in the first group (Intermediate threat)"
   ]
  },
  {
   "cell_type": "markdown",
   "metadata": {},
   "source": [
    "## K-prototypes"
   ]
  },
  {
   "cell_type": "code",
   "execution_count": null,
   "metadata": {},
   "outputs": [],
   "source": [
    "# Scale the numerical data\n",
    "scaler = MinMaxScaler()\n",
    "df_features2_scaled = df_features2.copy()\n",
    "df_features2_scaled[['attack_duration','wcount_command','length_password']] = scaler.fit_transform(df_features2_scaled.drop(['link_download','chmod_found', 'protocol','continent_attacker'], axis=1))"
   ]
  },
  {
   "cell_type": "markdown",
   "metadata": {},
   "source": [
    "n_clusters selection using elbow plot"
   ]
  },
  {
   "cell_type": "code",
   "execution_count": null,
   "metadata": {},
   "outputs": [],
   "source": [
    "#Elbow plot with cost \n",
    "costs = []\n",
    "categorical_columns = [2,3,5,6]\n",
    "\n",
    "for k in tqdm(range(2, 10)):\n",
    "    kproto = KPrototypes(n_clusters=k, init='Huang', gamma=None, n_init=1, random_state=42)\n",
    "    kproto.fit(df_features2_scaled, categorical=categorical_columns)\n",
    "    costs.append(kproto.cost_)\n",
    "# Elbow plot\n",
    "plt.figure(1 , figsize = (15 ,6))\n",
    "plt.plot(np.arange(2 , 10) , costs , 'o')\n",
    "plt.plot(np.arange(2 , 10) , costs , '-' , alpha = 0.5)\n",
    "plt.xlabel('Number of Clusters')\n",
    "plt.ylabel('Distortion')\n",
    "plt.title('Elbow Plot')\n",
    "plt.show()"
   ]
  },
  {
   "cell_type": "markdown",
   "metadata": {},
   "source": [
    "4 clusters seems a good choice by examining the elbow plot!"
   ]
  },
  {
   "cell_type": "code",
   "execution_count": null,
   "metadata": {},
   "outputs": [],
   "source": [
    "# Fit and predict for k = 4\n",
    "kproto = KPrototypes(n_clusters=4, init='Huang', gamma=None, n_init=1, random_state=42)\n",
    "clusters_kproto2 = kproto.fit_predict(df_features2_scaled, categorical=categorical_columns)\n",
    "\n",
    "# Append the clusters to the dataset\n",
    "df_features2['kproto_cluster'] = clusters_kproto2"
   ]
  },
  {
   "cell_type": "markdown",
   "metadata": {},
   "source": [
    "### K-prototypes visualization"
   ]
  },
  {
   "cell_type": "code",
   "execution_count": null,
   "metadata": {},
   "outputs": [],
   "source": [
    "# Clustering distribution for k-prototypes\n",
    "label_counts = Counter(clusters_kproto2)\n",
    "labels, counts = zip(*label_counts.items())\n",
    "\n",
    "# Create a figure and axes for the bar chart\n",
    "fig, ax = plt.subplots(figsize=(8, 5))\n",
    "\n",
    "# Customize the bar chart appearance\n",
    "ax.bar(labels, counts, color='skyblue', edgecolor='navy', alpha=0.7)\n",
    "ax.set_xlabel('Cluster', fontsize=14)\n",
    "ax.set_ylabel('Count', fontsize=14)\n",
    "ax.set_title('Cluster Distribution', fontsize=16, fontweight='bold')\n",
    "\n",
    "# Add grid lines for better readability\n",
    "ax.grid(axis='y', linestyle='--', alpha=0.6)\n",
    "\n",
    "\n",
    "# Set the x-ticks to show only the number of cluster\n",
    "ax.set_xticks([0, 1, 2])\n",
    "\n",
    "# Show the plot\n",
    "plt.tight_layout()\n",
    "plt.show()"
   ]
  },
  {
   "cell_type": "code",
   "execution_count": null,
   "metadata": {},
   "outputs": [],
   "source": [
    "# Multiple plots, clustering visualization\n",
    "cluster_visualization(df_features2,'kproto_cluster')"
   ]
  },
  {
   "cell_type": "code",
   "execution_count": null,
   "metadata": {},
   "outputs": [],
   "source": [
    "# Continent count per cluster\n",
    "grouped = df_features2.groupby(['kproto_cluster', 'continent_attacker']).size().unstack(fill_value=0)\n",
    "ax = grouped.plot(kind='bar', stacked=True, colormap='tab10')\n",
    "ax.set_xlabel('Cluster', fontsize=14)\n",
    "ax.set_ylabel('Count', fontsize=14)\n",
    "ax.set_title('Attacker Continent Distribution by cluster', fontsize=16, fontweight='bold')\n",
    "plt.legend(title='Continent Code', title_fontsize=12,loc='upper left', bbox_to_anchor=(1, 1))\n",
    "plt.grid(axis='y', linestyle='--', alpha=0.6)\n",
    "plt.show()"
   ]
  },
  {
   "cell_type": "markdown",
   "metadata": {},
   "source": [
    "Four different clusters are created in this high threat level. Observe that cluster 3,the biggeest cluster, mainly governed by EU is the one that lasts the least (attack duration) and coincides with the one that download more files but withuot any executation. Again, inside this high threat level, this is the less threatened group, in comparison with the others, in which files are donwloaded and executed with permissions."
   ]
  },
  {
   "cell_type": "markdown",
   "metadata": {},
   "source": [
    "## FAMD & K-means"
   ]
  },
  {
   "cell_type": "code",
   "execution_count": null,
   "metadata": {},
   "outputs": [],
   "source": [
    "# No scale is needed, is inside FAMD\n",
    "# Look for optimal n_components (Scree plot)\n",
    "famd = prince.FAMD(n_components=(len(df_features2.columns) - 1), n_iter=5,\n",
    "                   copy=True, check_input=True,random_state=42)\n",
    "famd.fit(df_features2.drop(['kproto_cluster'],axis=1))\n",
    "\n",
    "# Scree plot\n",
    "eigenvalues = famd.eigenvalues_\n",
    "plt.figure(1 , figsize = (15 ,6))\n",
    "plt.plot(range(1, len(eigenvalues) + 1), eigenvalues, marker='o')\n",
    "plt.plot(range(1, len(eigenvalues) + 1) , eigenvalues , '-' , alpha = 0.5)\n",
    "plt.title(\"Scree Plot\")\n",
    "plt.xlabel(\"Number of Components\")\n",
    "plt.ylabel(\"Eigenvalues\")\n",
    "plt.show()"
   ]
  },
  {
   "cell_type": "markdown",
   "metadata": {},
   "source": [
    "Let us keep components until we reach 75% of the total variance."
   ]
  },
  {
   "cell_type": "code",
   "execution_count": null,
   "metadata": {},
   "outputs": [],
   "source": [
    "cumulative_variance = np.cumsum(famd.eigenvalues_ / sum(famd.eigenvalues_))\n",
    "n_components = np.argmax(cumulative_variance >= 0.75) + 1\n",
    "print('Optimal number of components using the 3/4 rule:',n_components)\n",
    "print('Fitting FAMD with n_components = 5....')\n",
    "# Fit FAMD for n_components = 5\n",
    "famd = prince.FAMD(n_components=5, n_iter=5,\n",
    "                   copy=True, check_input=True,random_state=42)\n",
    "famd.fit(df_features2.drop(['kproto_cluster'],axis=1))\n",
    "df_features2_famdkmeans = famd.row_coordinates(df_features2.drop(['kproto_cluster'],axis=1))"
   ]
  },
  {
   "cell_type": "markdown",
   "metadata": {},
   "source": [
    "Now we can perform K-means clustering to this data."
   ]
  },
  {
   "cell_type": "code",
   "execution_count": null,
   "metadata": {},
   "outputs": [],
   "source": [
    "# Scaling the data\n",
    "scaler = MinMaxScaler(feature_range=(-1,1)) # since we have negative and positive values\n",
    "df_features2_famdkmeans_scaled = scaler.fit_transform(df_features2_famdkmeans)"
   ]
  },
  {
   "cell_type": "markdown",
   "metadata": {},
   "source": [
    "Choose the optimal number of clusters using the elbow plot"
   ]
  },
  {
   "cell_type": "code",
   "execution_count": null,
   "metadata": {},
   "outputs": [],
   "source": [
    "# Choosing the number of clusters for k-means\n",
    "inertia = []\n",
    "for k in tqdm(range(1, 10)):\n",
    "    km = KMeans(n_clusters = k ,init='k-means++',  random_state= 42  , algorithm='elkan')\n",
    "    km.fit(df_features2_famdkmeans_scaled )\n",
    "    inertia.append(km.inertia_)\n",
    "# Elbow plot\n",
    "plt.figure(1 , figsize = (15 ,6))\n",
    "plt.plot(np.arange(1 , 10) , inertia , 'o')\n",
    "plt.plot(np.arange(1 , 10) , inertia , '-' , alpha = 0.5)\n",
    "plt.xlabel('Number of Clusters') , plt.ylabel('Inertia')\n",
    "plt.show()"
   ]
  },
  {
   "cell_type": "markdown",
   "metadata": {},
   "source": [
    "2 or 3 could be a reasonable choice in this case. Let us choose 4 to win consistence with the previous method and have a better comparison."
   ]
  },
  {
   "cell_type": "code",
   "execution_count": null,
   "metadata": {},
   "outputs": [],
   "source": [
    "# Fit again for k=4\n",
    "km = KMeans(n_clusters = 4 ,init='k-means++',  random_state= 42  , algorithm='elkan')\n",
    "km.fit(df_features2_famdkmeans_scaled)\n",
    "clusters_kmeans2 = km.labels_\n",
    "# Append cluster labels to the dataframe\n",
    "df_features2['kmeans_cluster'] = clusters_kmeans2"
   ]
  },
  {
   "cell_type": "markdown",
   "metadata": {},
   "source": [
    "### FAMD & K-means visualization"
   ]
  },
  {
   "cell_type": "code",
   "execution_count": null,
   "metadata": {},
   "outputs": [],
   "source": [
    "# Clustering distribution for k-prototypes\n",
    "label_counts = Counter(clusters_kmeans2)\n",
    "labels, counts = zip(*label_counts.items())\n",
    "\n",
    "# Create a figure and axes for the bar chart\n",
    "fig, ax = plt.subplots(figsize=(8, 5))\n",
    "\n",
    "# Customize the bar chart appearance\n",
    "ax.bar(labels, counts, color='skyblue', edgecolor='navy', alpha=0.7)\n",
    "ax.set_xlabel('Cluster', fontsize=14)\n",
    "ax.set_ylabel('Count', fontsize=14)\n",
    "ax.set_title('Cluster Distribution', fontsize=16, fontweight='bold')\n",
    "\n",
    "# Add grid lines for better readability\n",
    "ax.grid(axis='y', linestyle='--', alpha=0.6)\n",
    "\n",
    "\n",
    "# Set the x-ticks to show only the number of cluster\n",
    "ax.set_xticks([0, 1, 2, 3])\n",
    "\n",
    "# Show the plot\n",
    "plt.tight_layout()\n",
    "plt.show()"
   ]
  },
  {
   "cell_type": "code",
   "execution_count": null,
   "metadata": {},
   "outputs": [],
   "source": [
    "cluster_visualization(df_features2,'kmeans_cluster')"
   ]
  },
  {
   "cell_type": "code",
   "execution_count": null,
   "metadata": {},
   "outputs": [],
   "source": [
    "# Continent count per cluster\n",
    "grouped = df_features2.groupby(['kmeans_cluster', 'continent_attacker']).size().unstack(fill_value=0)\n",
    "ax = grouped.plot(kind='bar', stacked=True, colormap='tab10')\n",
    "ax.set_xlabel('Cluster', fontsize=14)\n",
    "ax.set_ylabel('Count', fontsize=14)\n",
    "ax.set_title('Attacker Continent Distribution by cluster', fontsize=16, fontweight='bold')\n",
    "plt.legend(title='Continent Code', title_fontsize=12,loc='upper left', bbox_to_anchor=(1, 1))\n",
    "plt.grid(axis='y', linestyle='--', alpha=0.6)\n",
    "plt.show()"
   ]
  },
  {
   "cell_type": "markdown",
   "metadata": {},
   "source": [
    "Worst results"
   ]
  },
  {
   "cell_type": "code",
   "execution_count": null,
   "metadata": {},
   "outputs": [],
   "source": []
  }
 ],
 "metadata": {
  "kernelspec": {
   "display_name": "Python 3",
   "language": "python",
   "name": "python3"
  },
  "language_info": {
   "codemirror_mode": {
    "name": "ipython",
    "version": 3
   },
   "file_extension": ".py",
   "mimetype": "text/x-python",
   "name": "python",
   "nbconvert_exporter": "python",
   "pygments_lexer": "ipython3",
   "version": "3.9.2"
  }
 },
 "nbformat": 4,
 "nbformat_minor": 2
}
