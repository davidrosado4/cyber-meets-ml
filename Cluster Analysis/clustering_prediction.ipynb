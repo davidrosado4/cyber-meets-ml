{
 "cells": [
  {
   "cell_type": "markdown",
   "metadata": {},
   "source": [
    "# Model to predict clusters given by the first stage\n",
    "This notebook contains the code to predict the first stage cluster of a given cyberattack. The idea is, once a new cyberattack come in, our model is capable of classfy the attack in one of the three clusters given by the first stage."
   ]
  },
  {
   "cell_type": "code",
   "execution_count": null,
   "metadata": {},
   "outputs": [],
   "source": [
    "# Required imports \n",
    "\n",
    "# Utils functions\n",
    "from utils import *\n",
    "\n",
    "# Ignore warnings\n",
    "import warnings\n",
    "warnings.filterwarnings('ignore')\n",
    "\n",
    "# General imports \n",
    "import pandas as pd\n",
    "import numpy as np\n",
    "import matplotlib.pyplot as plt\n",
    "from collections import Counter\n",
    "\n",
    "\n",
    "# ML imports\n",
    "from sklearn.model_selection import train_test_split\n",
    "from sklearn.metrics import confusion_matrix, ConfusionMatrixDisplay\n"
   ]
  },
  {
   "cell_type": "markdown",
   "metadata": {},
   "source": [
    "## Read data"
   ]
  },
  {
   "cell_type": "code",
   "execution_count": null,
   "metadata": {},
   "outputs": [],
   "source": [
    "# Download data\n",
    "df = pd.read_csv(\"../Data/Cluster_data_wlabels.csv\")\n",
    "# The target has 4 nan, drop them\n",
    "df = df.dropna(subset=['spectral_cluster'])"
   ]
  },
  {
   "cell_type": "markdown",
   "metadata": {},
   "source": [
    "## Train/test split\n",
    "First we need to prepare the commands for the train/test split. Pre-processing of commands is needed to ensure that we only take unique commands, otherwise data leak wil appear. Let us perform an improve preprocessing of the commands to ensure that."
   ]
  },
  {
   "cell_type": "code",
   "execution_count": null,
   "metadata": {},
   "outputs": [],
   "source": [
    "# Take just commands and the labels\n",
    "df_commands = df[['_source.commands','spectral_cluster']]\n",
    "\n",
    "# Process the commands and take the unique ones\n",
    "df_commands = command_improve_normalization(df_commands)\n",
    "df_commands = df_commands.drop_duplicates(subset=['_source.commands'])\n",
    "\n",
    "# Split the data into training and test sets\n",
    "X = df_commands.drop('spectral_cluster', axis=1)\n",
    "y = df_commands['spectral_cluster']\n",
    "X_train, X_test, y_train, y_test = train_test_split(X, y, test_size=0.2, random_state=42)"
   ]
  },
  {
   "cell_type": "markdown",
   "metadata": {},
   "source": [
    "Careful!! Imbalanced dataset!!"
   ]
  },
  {
   "cell_type": "code",
   "execution_count": null,
   "metadata": {},
   "outputs": [],
   "source": [
    "# Clustering distribution for unique commands\n",
    "label_counts = Counter(y_train)\n",
    "labels, counts = zip(*label_counts.items())\n",
    "\n",
    "# Create a figure and axes for the bar chart\n",
    "fig, ax = plt.subplots(figsize=(8, 5))\n",
    "\n",
    "# Customize the bar chart appearance\n",
    "ax.bar(labels, counts, color='skyblue', edgecolor='navy', alpha=0.7)\n",
    "ax.set_xlabel('Cluster', fontsize=14)\n",
    "ax.set_ylabel('Count', fontsize=14)\n",
    "ax.set_title('Cluster Distribution', fontsize=16, fontweight='bold')\n",
    "\n",
    "# Add grid lines for better readability\n",
    "ax.grid(axis='y', linestyle='--', alpha=0.6)\n",
    "\n",
    "\n",
    "# Set the x-ticks to show only 0, 1, and 2\n",
    "ax.set_xticks([0, 1, 2])\n",
    "\n",
    "# Show the plot\n",
    "plt.tight_layout()\n",
    "plt.show()\n"
   ]
  },
  {
   "cell_type": "markdown",
   "metadata": {},
   "source": [
    "## Model training"
   ]
  },
  {
   "cell_type": "code",
   "execution_count": null,
   "metadata": {},
   "outputs": [],
   "source": [
    "# Train a RandomForest and a SVM\n",
    "best_models = train(X_train, X_test, y_train, y_test)"
   ]
  },
  {
   "cell_type": "markdown",
   "metadata": {},
   "source": [
    "## Results"
   ]
  },
  {
   "cell_type": "code",
   "execution_count": null,
   "metadata": {},
   "outputs": [],
   "source": [
    "# Set the figure size\n",
    "plt.figure(figsize=(8, 6))\n",
    "\n",
    "# Customize the confusion matrix display, e.g., using the 'display_labels' parameter\n",
    "disp = ConfusionMatrixDisplay(confusion_matrix(y_test, best_models[0]['output']))\n",
    "\n",
    "# Plot the confusion matrix\n",
    "disp.plot(values_format='.0f')\n",
    "\n",
    "# Add labels and a title\n",
    "plt.xlabel('Predicted')\n",
    "plt.ylabel('True')\n",
    "plt.title('Confusion Matrix Random Forest')\n",
    "\n",
    "# Show the plot\n",
    "plt.show()\n",
    "plt.show()"
   ]
  },
  {
   "cell_type": "code",
   "execution_count": null,
   "metadata": {},
   "outputs": [],
   "source": [
    "# Set the figure size\n",
    "plt.figure(figsize=(8, 6))\n",
    "\n",
    "# Customize the confusion matrix display, e.g., using the 'display_labels' parameter\n",
    "disp = ConfusionMatrixDisplay(confusion_matrix(y_test, best_models[1]['output']))\n",
    "\n",
    "# Plot the confusion matrix\n",
    "disp.plot(values_format='.0f')\n",
    "\n",
    "# Add labels and a title\n",
    "plt.xlabel('Predicted')\n",
    "plt.ylabel('True')\n",
    "plt.title('Confusion Matrix SVC')\n",
    "\n",
    "# Show the plot\n",
    "plt.show()\n",
    "plt.show()"
   ]
  },
  {
   "cell_type": "code",
   "execution_count": null,
   "metadata": {},
   "outputs": [],
   "source": [
    "print('F1-score of Random forest: {:.3f}'.format(best_models[0]['f1_score']))\n",
    "print('F1-score of SVM: {:.3f}'.format(best_models[1]['f1_score']))"
   ]
  },
  {
   "cell_type": "code",
   "execution_count": null,
   "metadata": {},
   "outputs": [],
   "source": []
  }
 ],
 "metadata": {
  "kernelspec": {
   "display_name": "Python 3",
   "language": "python",
   "name": "python3"
  },
  "language_info": {
   "codemirror_mode": {
    "name": "ipython",
    "version": 3
   },
   "file_extension": ".py",
   "mimetype": "text/x-python",
   "name": "python",
   "nbconvert_exporter": "python",
   "pygments_lexer": "ipython3",
   "version": "3.9.2"
  }
 },
 "nbformat": 4,
 "nbformat_minor": 2
}
